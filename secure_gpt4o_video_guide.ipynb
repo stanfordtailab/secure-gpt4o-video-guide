{
 "cells": [
  {
   "cell_type": "markdown",
   "metadata": {},
   "source": [
    "# Using Stanford Health Care & Stanford School of Medicine's Secure GPT-4o for Video Understanding\n",
    "### Last Updated: March 28, 2025\n",
    "#### Hee Jung Choi"
   ]
  },
  {
   "cell_type": "markdown",
   "metadata": {},
   "source": [
    "This notebook guides you through the basics of using Stanford Medicine's Secure GPT-4o for video understanding. This guide demonstrates how to securely work with a locally saved video by encoding it into a Base64 data URL. This approach ensures HIPAA compliance by keeping all data processing local before interacting with Stanford's Secure GPT-4o. If you're not connected to Stanford's network, and you're off campus, make sure your Stanford VPN is turned on."
   ]
  },
  {
   "cell_type": "markdown",
   "metadata": {},
   "source": [
    "## Test Connection"
   ]
  },
  {
   "cell_type": "code",
   "execution_count": null,
   "metadata": {},
   "outputs": [
    {
     "name": "stdout",
     "output_type": "stream",
     "text": [
      "Hello! I'm excited to help you analyze videos. Whether you need assistance with video content analysis, extracting insights, or any other type of video-related project, feel free to let me know how I can assist you.\n"
     ]
    }
   ],
   "source": [
    "import requests\n",
    "import json\n",
    "\n",
    "# Check with SHC to make sure this is the latest URL!\n",
    "url = \"https://apim.stanfordhealthcare.org/openai12/deployments/gpt-4o/chat/completions?api-version=2023-05-15\"  \n",
    "\n",
    "payload = json.dumps({\n",
    "    \"model\": \"gpt-4o\",\n",
    "    \"messages\": [\n",
    "        {\n",
    "            \"role\": \"user\",\n",
    "            \"content\": \"Hi! I'm excited to work with you to analyze videos. What about you?\"\n",
    "        }\n",
    "    ]\n",
    "})\n",
    "\n",
    "headers = {\n",
    "    \"Ocp-Apim-Subscription-Key\": \"XXX\",  # Subscription key\n",
    "    \"Content-Type\": \"application/json\"\n",
    "}\n",
    "\n",
    "response = requests.post(url, headers=headers, data=payload)\n",
    "data = json.loads(response.text)\n",
    "\n",
    "message_content = data[\"choices\"][0][\"message\"][\"content\"]\n",
    "print(message_content)"
   ]
  },
  {
   "cell_type": "markdown",
   "metadata": {},
   "source": [
    "## Load a Video"
   ]
  },
  {
   "cell_type": "code",
   "execution_count": 7,
   "metadata": {},
   "outputs": [],
   "source": [
    "from IPython.display import display, Image\n",
    "import cv2  \n",
    "import base64\n",
    "import time"
   ]
  },
  {
   "cell_type": "code",
   "execution_count": 12,
   "metadata": {},
   "outputs": [
    {
     "name": "stdout",
     "output_type": "stream",
     "text": [
      "1224 frames read.\n"
     ]
    }
   ],
   "source": [
    "# Read a video and check the number of frames read\n",
    "video = cv2.VideoCapture(\"./sample_TUG_video.mp4\")  # Your video file path\n",
    "\n",
    "base64Frames = []\n",
    "while video.isOpened():\n",
    "    success, frame = video.read()\n",
    "    if not success:\n",
    "        break\n",
    "    # frame = cv2.rotate(frame, cv2.ROTATE_90_CLOCKWISE)  # Add this only if you need to rotate the video to a desired orientation\n",
    "    _, buffer = cv2.imencode(\".jpg\", frame)\n",
    "    base64Frames.append(base64.b64encode(buffer).decode(\"utf-8\"))\n",
    "\n",
    "video.release()\n",
    "print(len(base64Frames), \"frames read.\")"
   ]
  },
  {
   "cell_type": "markdown",
   "metadata": {},
   "source": [
    "Sample Video Source:\n",
    "\n",
    "Colón-Emeric CS, McDermott CL, Lee DS, Berry SD. Risk Assessment and Prevention of Falls in Older Community-Dwelling Adults: A Review. JAMA. 2024;331(16):1397–1406. doi:10.1001/jama.2024.1416\n",
    "\n"
   ]
  },
  {
   "cell_type": "code",
   "execution_count": 14,
   "metadata": {},
   "outputs": [
    {
     "data": {
      "image/jpeg": "[encoded data removed]",
      "text/plain": [
       "<IPython.core.display.Image object>"
      ]
     },
     "metadata": {},
     "output_type": "display_data"
    }
   ],
   "source": [
    "# Display the frames to make sure we've read them in correctly:\n",
    "display_handle = display(None, display_id=True)\n",
    "for img in base64Frames:\n",
    "    display_handle.update(Image(data=base64.b64decode(img.encode(\"utf-8\"))))\n",
    "    time.sleep(0.025)"
   ]
  },
  {
   "cell_type": "markdown",
   "metadata": {},
   "source": [
    "# Send the downsampled frames and ask GPT-4o for a description!"
   ]
  },
  {
   "cell_type": "code",
   "execution_count": 15,
   "metadata": {},
   "outputs": [
    {
     "name": "stdout",
     "output_type": "stream",
     "text": [
      "This video demonstrates the correct procedure for administering the Timed Up and Go test, a simple test used by medical professionals to assess an individual’s risk of falling. It includes detailed instructions and visuals, guiding viewers step-by-step on how to properly execute the test. Key aspects such as the proper distance of the cone, timing considerations, and the expected performance standards are covered to ensure accurate assessments. This serves as an essential tool for clinicians to help prevent falls and improve patient safety.\n"
     ]
    }
   ],
   "source": [
    "# Convert frames to OpenAI-compatible image objects\n",
    "images = [\n",
    "    {\n",
    "        \"type\": \"image_url\",\n",
    "        \"image_url\": {\n",
    "            \"url\": f\"data:image/jpeg;base64,{x}\",\n",
    "            \"detail\": \"auto\"\n",
    "        }\n",
    "    }\n",
    "    for x in base64Frames[0::50]\n",
    "]\n",
    "\n",
    "# The prompt and the video frames!\n",
    "content = [{\"type\": \"text\", \"text\": \"These are frames from a video that I want to upload. Generate a compelling description that I can upload along with the video.\"}] + images\n",
    "\n",
    "payload = json.dumps({\n",
    "    \"model\": \"gpt-4o\",\n",
    "    \"messages\": [\n",
    "        {\n",
    "            \"role\": \"user\",\n",
    "            \"content\": content\n",
    "        }\n",
    "    ]\n",
    "})\n",
    "\n",
    "response = requests.post(url, headers=headers, data=payload)\n",
    "\n",
    "data = json.loads(response.text)\n",
    "if \"choices\" in data:\n",
    "    print(data[\"choices\"][0][\"message\"][\"content\"])\n",
    "else:\n",
    "    print(\"Error:\", data.get(\"error\", data))"
   ]
  },
  {
   "cell_type": "code",
   "execution_count": null,
   "metadata": {},
   "outputs": [],
   "source": []
  }
 ],
 "metadata": {
  "kernelspec": {
   "display_name": "Python 3",
   "language": "python",
   "name": "python3"
  },
  "language_info": {
   "codemirror_mode": {
    "name": "ipython",
    "version": 3
   },
   "file_extension": ".py",
   "mimetype": "text/x-python",
   "name": "python",
   "nbconvert_exporter": "python",
   "pygments_lexer": "ipython3",
   "version": "3.11.11"
  }
 },
 "nbformat": 4,
 "nbformat_minor": 2
}
